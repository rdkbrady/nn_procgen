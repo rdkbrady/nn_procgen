{
 "cells": [
  {
   "cell_type": "code",
   "execution_count": null,
   "metadata": {},
   "outputs": [],
   "source": [
    "from osgeo import gdal\n",
    "from osgeo import gdal_array\n",
    "import numpy as np"
   ]
  },
  {
   "cell_type": "code",
   "execution_count": null,
   "metadata": {},
   "outputs": [],
   "source": [
    "dataset = gdal.Open(\"mn75_grd/mn75_grd/\", gdal.GA_ReadOnly)"
   ]
  },
  {
   "cell_type": "code",
   "execution_count": null,
   "metadata": {},
   "outputs": [],
   "source": [
    "print(\"Driver: {}/{}\".format(dataset.GetDriver().ShortName,\n",
    "                            dataset.GetDriver().LongName))\n",
    "print(\"Size is {} x {} x {}\".format(dataset.RasterXSize,\n",
    "                                    dataset.RasterYSize,\n",
    "                                    dataset.RasterCount))\n",
    "print(\"Projection is {}\".format(dataset.GetProjection()))\n",
    "geotransform = dataset.GetGeoTransform()\n",
    "if geotransform:\n",
    "    print(\"Origin = ({}, {})\".format(geotransform[0], geotransform[3]))\n",
    "    print(\"Pixel Size = ({}, {})\".format(geotransform[1], geotransform[5]))"
   ]
  },
  {
   "cell_type": "code",
   "execution_count": null,
   "metadata": {},
   "outputs": [],
   "source": [
    "band = dataset.GetRasterBand(1)\n",
    "print(\"Band Type={}\".format(gdal.GetDataTypeName(band.DataType)))\n",
    "\n",
    "min = band.GetMinimum()\n",
    "max = band.GetMaximum()\n",
    "if not min or not max:\n",
    "    (min,max) = band.ComputeRasterMinMax(True)\n",
    "print(\"Min={:.3f}, Max={:.3f}\".format(min,max))\n",
    "\n",
    "if band.GetOverviewCount() > 0:\n",
    "    print(\"Band has {} overviews\".format(band.GetOverviewCount()))\n",
    "\n",
    "if band.GetRasterColorTable():\n",
    "    print(\"Band has a color table with {} entries\".format(band.GetRasterColorTable().GetCount()))"
   ]
  },
  {
   "cell_type": "code",
   "execution_count": null,
   "metadata": {},
   "outputs": [],
   "source": [
    "np.save('world.npy', image)"
   ]
  }
 ],
 "metadata": {
  "kernelspec": {
   "display_name": "Python [conda env:spatial]",
   "language": "python",
   "name": "conda-env-spatial-py"
  },
  "language_info": {
   "codemirror_mode": {
    "name": "ipython",
    "version": 3
   },
   "file_extension": ".py",
   "mimetype": "text/x-python",
   "name": "python",
   "nbconvert_exporter": "python",
   "pygments_lexer": "ipython3",
   "version": "3.7.6"
  }
 },
 "nbformat": 4,
 "nbformat_minor": 4
}
