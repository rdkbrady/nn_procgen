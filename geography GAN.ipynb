{
 "cells": [
  {
   "cell_type": "code",
   "execution_count": 1,
   "metadata": {},
   "outputs": [],
   "source": [
    "import time\n",
    "import numpy as np\n",
    "from numpy import random\n",
    "from tensorflow.keras import layers\n",
    "from tensorflow.keras.optimizers import Adam\n",
    "from tensorflow.keras.models import Model\n",
    "import tensorflow as tf\n",
    "from matplotlib import pyplot as plt\n",
    "import os"
   ]
  },
  {
   "cell_type": "code",
   "execution_count": 2,
   "metadata": {},
   "outputs": [],
   "source": [
    "image = np.load('world.npy')\n",
    "def get_map_sample(size =56, plot = False):\n",
    "    \n",
    "    while(True):\n",
    "        x = random.randint(67200-size)\n",
    "        y = random.randint(172800-size)\n",
    "        subim = image[x:size+x, y:size+y, 0]\n",
    "        if np.all(subim > 0) & (np.max(subim) > np.min(subim) + 100):\n",
    "            subim = (subim - np.mean(subim)) / 3000\n",
    "            if(plot):\n",
    "                fig = plt.figure(figsize=(15,6))\n",
    "                ax = fig.add_subplot(1, 2, 1)\n",
    "                ax.imshow(subim)\n",
    "                m,n = subim.shape\n",
    "                R,C = np.mgrid[:m,:n]\n",
    "                X = C.ravel() * 30\n",
    "                Y = R.ravel() * 30\n",
    "                Z = subim.ravel()\n",
    "                ax = fig.add_subplot(1, 2, 2, projection='3d')\n",
    "                ax.plot_trisurf(X, Y, Z, linewidth=0, antialiased=False, cmap = cm.gist_earth)\n",
    "                ax.set_zlim(0, 1)\n",
    "            \n",
    "\n",
    "            yield(subim.reshape(size,size, 1))\n",
    "        else:\n",
    "            next\n",
    "            \n"
   ]
  },
  {
   "cell_type": "code",
   "execution_count": 3,
   "metadata": {},
   "outputs": [],
   "source": [
    "def build_generator():\n",
    "    model = tf.keras.Sequential()\n",
    "    model.add(layers.Dense(7*7*256, use_bias=False, input_shape=(100,)))\n",
    "    model.add(layers.BatchNormalization())\n",
    "    model.add(layers.LeakyReLU())\n",
    "\n",
    "    model.add(layers.Reshape((7, 7, 256)))\n",
    "    assert model.output_shape == (None, 7, 7, 256) # Note: None is the batch size\n",
    "\n",
    "    model.add(layers.Conv2D(1, (5,5), padding='same'))\n",
    "    model.add(layers.BatchNormalization())\n",
    "    model.add(layers.LeakyReLU())\n",
    "\n",
    "    model.add(layers.UpSampling2D(interpolation='bilinear'))\n",
    "    model.add(layers.Conv2D(1, (5,5), padding='same'))\n",
    "    model.add(layers.BatchNormalization())\n",
    "    model.add(layers.LeakyReLU())\n",
    "\n",
    "    model.add(layers.UpSampling2D(interpolation='bilinear'))\n",
    "    model.add(layers.Conv2D(1, (5,5), padding='same'))\n",
    "    model.add(layers.BatchNormalization())\n",
    "    model.add(layers.LeakyReLU())\n",
    "\n",
    "    model.add(layers.UpSampling2D(interpolation='bilinear'))\n",
    "    model.add(layers.Conv2D(1, (5,5), padding='same'))\n",
    "\n",
    "    return model\n",
    "\n",
    "def build_discriminator():\n",
    "    model = tf.keras.Sequential()\n",
    "    model.add(layers.Conv2D(64, (5, 5), strides=(2, 2), padding='same',\n",
    "                                     input_shape=[56, 56, 1]))\n",
    "    model.add(layers.LeakyReLU())\n",
    "    model.add(layers.Dropout(0.3))\n",
    "\n",
    "    model.add(layers.Conv2D(128, (5, 5), strides=(2, 2), padding='same'))\n",
    "    model.add(layers.LeakyReLU())\n",
    "    model.add(layers.Dropout(0.3))\n",
    "\n",
    "    model.add(layers.Flatten())\n",
    "    model.add(layers.Dense(1))\n",
    "\n",
    "    return model\n",
    "\n",
    "class GAN():\n",
    "    def __init__(self, \n",
    "                 dataset, \n",
    "                 batch_size, \n",
    "                 epochs, \n",
    "                 noise_dim, \n",
    "                 discriminator, \n",
    "                 generator, \n",
    "                 discriminator_optimizer = tf.keras.optimizers.Adam(1e-4), \n",
    "                 generator_optimizer = tf.keras.optimizers.Adam(1e-4)):\n",
    "        self.BATCH_SIZE = batch_size\n",
    "        self.epochs = epochs\n",
    "        self.noise_dim = noise_dim\n",
    "        self.seed = tf.random.normal([4, self.noise_dim])\n",
    "        self.dataset = tf.data.Dataset.from_generator(dataset, tf.float32, tf.TensorShape([56, 56, 1])).batch(self.BATCH_SIZE)\n",
    "        self.discriminator = discriminator\n",
    "        self.generator = generator\n",
    "        self.discriminator_optimizer = discriminator_optimizer\n",
    "        self.generator_optimizer = generator_optimizer\n",
    "        self.cross_entropy = tf.keras.losses.BinaryCrossentropy(from_logits=True)\n",
    "\n",
    "    def discriminator_loss(self, real_output, fake_output):\n",
    "        real_loss = self.cross_entropy(tf.ones_like(real_output), real_output)\n",
    "        fake_loss = self.cross_entropy(tf.zeros_like(fake_output), fake_output)\n",
    "        total_loss = real_loss + fake_loss\n",
    "        return total_loss\n",
    "\n",
    "    def generator_loss(self, fake_output):\n",
    "        return self.cross_entropy(tf.ones_like(fake_output), fake_output)\n",
    "    \n",
    "    @tf.function\n",
    "    def train_step(self, images):\n",
    "        noise = tf.random.normal([self.BATCH_SIZE, self.noise_dim])\n",
    "\n",
    "        with tf.GradientTape() as gen_tape, tf.GradientTape() as disc_tape:\n",
    "            generated_images = self.generator(noise, training=True)\n",
    "  \n",
    "            real_output = self.discriminator(images, training=True)\n",
    "            fake_output = self.discriminator(generated_images, training=True)\n",
    "\n",
    "            gen_loss = self.generator_loss(fake_output)\n",
    "            disc_loss = self.discriminator_loss(real_output, fake_output)\n",
    "\n",
    "        gradients_of_generator = gen_tape.gradient(gen_loss, self.generator.trainable_variables)\n",
    "        gradients_of_discriminator = disc_tape.gradient(disc_loss, self.discriminator.trainable_variables)\n",
    "\n",
    "        self.generator_optimizer.apply_gradients(zip(gradients_of_generator, self.generator.trainable_variables))\n",
    "        self.discriminator_optimizer.apply_gradients(zip(gradients_of_discriminator, self.discriminator.trainable_variables))\n",
    "\n",
    "    def train(self):\n",
    "        for epoch in range(self.epochs):\n",
    "            start = time.time()\n",
    "\n",
    "            for image_batch in self.dataset.take(1): \n",
    "                self.train_step(image_batch)\n",
    "            \n",
    "\n",
    "\n",
    "            # Save the model every 15 epochs\n",
    "            if (epoch + 1) % 15 == 0:\n",
    "                # Produce images for the GIF as we go\n",
    "                # display.clear_output(wait=True)\n",
    "                self.generate_and_save_images(self.generator,\n",
    "                                         epoch + 1,\n",
    "                                         self.seed)\n",
    "                \n",
    "                checkpoint_dir = './training_checkpoints'\n",
    "                checkpoint_prefix = os.path.join(checkpoint_dir, \"ckpt\")\n",
    "                checkpoint = tf.train.Checkpoint(generator_optimizer=self.generator_optimizer,\n",
    "                                                 discriminator_optimizer=self.discriminator_optimizer,\n",
    "                                                 generator=self.generator,\n",
    "                                                 discriminator=self.discriminator)\n",
    "                checkpoint.save(file_prefix = checkpoint_prefix)\n",
    "\n",
    "            print ('Time for epoch {} is {} sec'.format(epoch + 1, time.time()-start))\n",
    "\n",
    "        # Generate after the final epoch\n",
    "#         display.clear_output(wait=True)\n",
    "        self.generate_and_save_images(self.generator,\n",
    "                               self.epochs,\n",
    "                               self.seed)\n",
    "        \n",
    "    def generate_and_save_images(self, model, epoch, test_input):\n",
    "    # Notice `training` is set to False.\n",
    "    # This is so all layers run in inference mode (batchnorm).\n",
    "        predictions = model(test_input, training=False)\n",
    "\n",
    "        fig = plt.figure(figsize=[8,4])\n",
    "        ax = fig.add_subplot(1,2,1)\n",
    "        ax.imshow(predictions[0,:,:,0], cmap ='gray', vmin = -750/3000, vmax = 750/3000)\n",
    "\n",
    "        ax = fig.add_subplot(1,2,2, projection='3d')\n",
    "        predictions = predictions.numpy()[0,:,:,0]\n",
    "        m,n = predictions.shape\n",
    "        R,C = np.mgrid[:m,:n]\n",
    "        surf = ax.plot_trisurf(30*C.ravel(),30*R.ravel(), (3000) * predictions.ravel(), cmap='gray',\n",
    "                               linewidth=0, antialiased=False, vmin = -750, vmax = 750)\n",
    "        ax.set_zlim(-750, 750)        \n",
    "        \n",
    "#         fig = plt.figure(figsize=(4,4))\n",
    "\n",
    "#         for i in range(predictions.shape[0]):\n",
    "#             plt.subplot(4, 4, i+1)\n",
    "#             plt.imshow(predictions[i, :, :, 0], cmap='gray')\n",
    "#             plt.axis('off')\n",
    "\n",
    "        plt.savefig('./images/image_at_epoch_{:04d}.png'.format(epoch))\n",
    "        plt.show()"
   ]
  },
  {
   "cell_type": "code",
   "execution_count": 4,
   "metadata": {},
   "outputs": [],
   "source": [
    "generator = build_generator()\n",
    "discriminator = build_discriminator()\n",
    "\n",
    "gan = GAN(dataset = get_map_sample, batch_size = 1000, epochs = 9000, noise_dim = 100, discriminator=discriminator, generator=generator)\n"
   ]
  },
  {
   "cell_type": "code",
   "execution_count": 5,
   "metadata": {},
   "outputs": [],
   "source": [
    "gan = GAN(dataset = get_map_sample, batch_size = 1000, epochs = 1, noise_dim = 100, discriminator=discriminator, generator=generator)\n"
   ]
  },
  {
   "cell_type": "code",
   "execution_count": 6,
   "metadata": {
    "scrolled": true
   },
   "outputs": [
    {
     "name": "stdout",
     "output_type": "stream",
     "text": [
      "Time for epoch 1 is 15.761372566223145 sec\n"
     ]
    },
    {
     "data": {
      "image/png": "[encoded data removed]",
      "text/plain": [
       "<Figure size 576x288 with 2 Axes>"
      ]
     },
     "metadata": {
      "needs_background": "light"
     },
     "output_type": "display_data"
    }
   ],
   "source": [
    "gan.train()"
   ]
  },
  {
   "cell_type": "code",
   "execution_count": 7,
   "metadata": {},
   "outputs": [
    {
     "data": {
      "text/plain": [
       "<matplotlib.image.AxesImage at 0x12e45871dc8>"
      ]
     },
     "execution_count": 7,
     "metadata": {},
     "output_type": "execute_result"
    },
    {
     "data": {
      "image/png": "[encoded data removed]",
      "text/plain": [
       "<Figure size 432x288 with 1 Axes>"
      ]
     },
     "metadata": {
      "needs_background": "light"
     },
     "output_type": "display_data"
    }
   ],
   "source": [
    "samp = next(get_map_sample())\n",
    "plt.imshow(samp[:,:,0], cmap ='gray')\n",
    "# gan.discriminator(samp.reshape(1,56,56,1))"
   ]
  },
  {
   "cell_type": "code",
   "execution_count": 8,
   "metadata": {},
   "outputs": [
    {
     "data": {
      "text/plain": [
       "<matplotlib.image.AxesImage at 0x12e6ee68208>"
      ]
     },
     "execution_count": 8,
     "metadata": {},
     "output_type": "execute_result"
    },
    {
     "data": {
      "image/png": "[encoded data removed]",
      "text/plain": [
       "<Figure size 432x288 with 1 Axes>"
      ]
     },
     "metadata": {
      "needs_background": "light"
     },
     "output_type": "display_data"
    }
   ],
   "source": [
    "plt.imshow(gan.generator(tf.random.normal([1, 100])).numpy().reshape(56,56) , cmap ='gray')"
   ]
  },
  {
   "cell_type": "code",
   "execution_count": null,
   "metadata": {},
   "outputs": [],
   "source": [
    "samp = next(get_map_sample())\n",
    "fig = plt.figure(figsize=[8,4])\n",
    "ax = fig.add_subplot(1,2,1)\n",
    "ax.imshow(samp[:,:,0], cmap ='gray', vmin = -750/3000, vmax = 750/3000)\n",
    "\n",
    "ax = fig.add_subplot(1,2,2, projection='3d')\n",
    "samp = samp[:,:,0] \n",
    "m,n = samp.shape\n",
    "R,C = np.mgrid[:m,:n]\n",
    "surf = ax.plot_trisurf(30*C.ravel(),30*R.ravel(), (3000) * samp.ravel(), cmap='gray',\n",
    "                       linewidth=0, antialiased=False, vmin = -750, vmax = 750)\n",
    "ax.set_zlim(-750, 750)\n",
    "plt.show()"
   ]
  },
  {
   "cell_type": "code",
   "execution_count": null,
   "metadata": {},
   "outputs": [],
   "source": [
    "samp.ravel().shape"
   ]
  },
  {
   "cell_type": "code",
   "execution_count": null,
   "metadata": {},
   "outputs": [],
   "source": [
    "gan.discriminator(samp.reshape(1,56,56,1))"
   ]
  },
  {
   "cell_type": "code",
   "execution_count": null,
   "metadata": {},
   "outputs": [],
   "source": []
  }
 ],
 "metadata": {
  "kernelspec": {
   "display_name": "Python 3",
   "language": "python",
   "name": "python3"
  },
  "language_info": {
   "codemirror_mode": {
    "name": "ipython",
    "version": 3
   },
   "file_extension": ".py",
   "mimetype": "text/x-python",
   "name": "python",
   "nbconvert_exporter": "python",
   "pygments_lexer": "ipython3",
   "version": "3.7.6"
  }
 },
 "nbformat": 4,
 "nbformat_minor": 4
}
